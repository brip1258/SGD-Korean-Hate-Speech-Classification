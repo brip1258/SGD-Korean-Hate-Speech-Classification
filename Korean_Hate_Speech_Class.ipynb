{
 "cells": [
  {
   "cell_type": "code",
   "execution_count": 37,
   "id": "extreme-kitchen",
   "metadata": {},
   "outputs": [],
   "source": [
    "#importing necssary packages\n",
    "import numpy as np\n",
    "import pandas as pd\n",
    "from cytoolz import *\n",
    "from tqdm.auto import tqdm\n",
    "from sklearn.model_selection import train_test_split\n",
    "tqdm.pandas()"
   ]
  },
  {
   "cell_type": "code",
   "execution_count": 38,
   "id": "spiritual-cabinet",
   "metadata": {},
   "outputs": [],
   "source": [
    "df = pd.read_csv('hate_speech_topic_dataset.csv')"
   ]
  },
  {
   "cell_type": "code",
   "execution_count": 39,
   "id": "dress-qualification",
   "metadata": {},
   "outputs": [
    {
     "data": {
      "text/html": [
       "<div>\n",
       "<style scoped>\n",
       "    .dataframe tbody tr th:only-of-type {\n",
       "        vertical-align: middle;\n",
       "    }\n",
       "\n",
       "    .dataframe tbody tr th {\n",
       "        vertical-align: top;\n",
       "    }\n",
       "\n",
       "    .dataframe thead th {\n",
       "        text-align: right;\n",
       "    }\n",
       "</style>\n",
       "<table border=\"1\" class=\"dataframe\">\n",
       "  <thead>\n",
       "    <tr style=\"text-align: right;\">\n",
       "      <th></th>\n",
       "      <th>Unnamed: 0</th>\n",
       "      <th>문장</th>\n",
       "      <th>혐오 여부</th>\n",
       "    </tr>\n",
       "  </thead>\n",
       "  <tbody>\n",
       "    <tr>\n",
       "      <th>0</th>\n",
       "      <td>0</td>\n",
       "      <td>솔직히 저런 대화는 남자들 사이에서 아무것도 아닌 대화지만 공개되는 순간 씹범죄자 ...</td>\n",
       "      <td>3</td>\n",
       "    </tr>\n",
       "    <tr>\n",
       "      <th>1</th>\n",
       "      <td>1</td>\n",
       "      <td>곤뇽이 되어가는군.....</td>\n",
       "      <td>0</td>\n",
       "    </tr>\n",
       "    <tr>\n",
       "      <th>2</th>\n",
       "      <td>2</td>\n",
       "      <td>imf로 우리나라 기업들 친중자본이 싹쓸어갔지 김영삼 김대중 이새끼들 중국새끼들 아...</td>\n",
       "      <td>2</td>\n",
       "    </tr>\n",
       "    <tr>\n",
       "      <th>3</th>\n",
       "      <td>3</td>\n",
       "      <td>여자가 약자라는 걸 ㅇㅈ해라\\n\\n장애인이랑 동급이라고 생각하면 편해</td>\n",
       "      <td>3</td>\n",
       "    </tr>\n",
       "    <tr>\n",
       "      <th>4</th>\n",
       "      <td>4</td>\n",
       "      <td>윤총경은?</td>\n",
       "      <td>0</td>\n",
       "    </tr>\n",
       "  </tbody>\n",
       "</table>\n",
       "</div>"
      ],
      "text/plain": [
       "   Unnamed: 0                                                 문장  혐오 여부\n",
       "0           0  솔직히 저런 대화는 남자들 사이에서 아무것도 아닌 대화지만 공개되는 순간 씹범죄자 ...      3\n",
       "1           1                                     곤뇽이 되어가는군.....      0\n",
       "2           2  imf로 우리나라 기업들 친중자본이 싹쓸어갔지 김영삼 김대중 이새끼들 중국새끼들 아...      2\n",
       "3           3             여자가 약자라는 걸 ㅇㅈ해라\\n\\n장애인이랑 동급이라고 생각하면 편해      3\n",
       "4           4                                              윤총경은?      0"
      ]
     },
     "execution_count": 39,
     "metadata": {},
     "output_type": "execute_result"
    }
   ],
   "source": [
    "df.head()"
   ]
  },
  {
   "cell_type": "code",
   "execution_count": 40,
   "id": "hybrid-senate",
   "metadata": {},
   "outputs": [
    {
     "data": {
      "text/plain": [
       "23594"
      ]
     },
     "execution_count": 40,
     "metadata": {},
     "output_type": "execute_result"
    }
   ],
   "source": [
    "len(df)"
   ]
  },
  {
   "cell_type": "code",
   "execution_count": 41,
   "id": "amateur-jumping",
   "metadata": {},
   "outputs": [
    {
     "data": {
      "text/plain": [
       "False"
      ]
     },
     "execution_count": 41,
     "metadata": {},
     "output_type": "execute_result"
    }
   ],
   "source": [
    "df['문장'].isnull().values.any()"
   ]
  },
  {
   "cell_type": "code",
   "execution_count": 42,
   "id": "brief-scanner",
   "metadata": {},
   "outputs": [],
   "source": [
    "di = {0: \"regions descrimination\", 1: \"dehumanizing political views\", 2: \"racist comments\", 3: \"gender hate speech\"}\n",
    "df.replace({\"혐오 여부\": di}, inplace = True)"
   ]
  },
  {
   "cell_type": "code",
   "execution_count": 43,
   "id": "racial-breast",
   "metadata": {},
   "outputs": [],
   "source": [
    "train, test = train_test_split(df, train_size=.8, shuffle=False)"
   ]
  },
  {
   "cell_type": "code",
   "execution_count": 44,
   "id": "further-india",
   "metadata": {},
   "outputs": [
    {
     "data": {
      "text/html": [
       "<div>\n",
       "<style scoped>\n",
       "    .dataframe tbody tr th:only-of-type {\n",
       "        vertical-align: middle;\n",
       "    }\n",
       "\n",
       "    .dataframe tbody tr th {\n",
       "        vertical-align: top;\n",
       "    }\n",
       "\n",
       "    .dataframe thead th {\n",
       "        text-align: right;\n",
       "    }\n",
       "</style>\n",
       "<table border=\"1\" class=\"dataframe\">\n",
       "  <thead>\n",
       "    <tr style=\"text-align: right;\">\n",
       "      <th></th>\n",
       "      <th>Unnamed: 0</th>\n",
       "      <th>문장</th>\n",
       "      <th>혐오 여부</th>\n",
       "    </tr>\n",
       "  </thead>\n",
       "  <tbody>\n",
       "    <tr>\n",
       "      <th>0</th>\n",
       "      <td>0</td>\n",
       "      <td>솔직히 저런 대화는 남자들 사이에서 아무것도 아닌 대화지만 공개되는 순간 씹범죄자 ...</td>\n",
       "      <td>gender hate speech</td>\n",
       "    </tr>\n",
       "    <tr>\n",
       "      <th>1</th>\n",
       "      <td>1</td>\n",
       "      <td>곤뇽이 되어가는군.....</td>\n",
       "      <td>regions descrimination</td>\n",
       "    </tr>\n",
       "    <tr>\n",
       "      <th>2</th>\n",
       "      <td>2</td>\n",
       "      <td>imf로 우리나라 기업들 친중자본이 싹쓸어갔지 김영삼 김대중 이새끼들 중국새끼들 아...</td>\n",
       "      <td>racist comments</td>\n",
       "    </tr>\n",
       "    <tr>\n",
       "      <th>3</th>\n",
       "      <td>3</td>\n",
       "      <td>여자가 약자라는 걸 ㅇㅈ해라\\n\\n장애인이랑 동급이라고 생각하면 편해</td>\n",
       "      <td>gender hate speech</td>\n",
       "    </tr>\n",
       "    <tr>\n",
       "      <th>4</th>\n",
       "      <td>4</td>\n",
       "      <td>윤총경은?</td>\n",
       "      <td>regions descrimination</td>\n",
       "    </tr>\n",
       "  </tbody>\n",
       "</table>\n",
       "</div>"
      ],
      "text/plain": [
       "   Unnamed: 0                                                 문장  \\\n",
       "0           0  솔직히 저런 대화는 남자들 사이에서 아무것도 아닌 대화지만 공개되는 순간 씹범죄자 ...   \n",
       "1           1                                     곤뇽이 되어가는군.....   \n",
       "2           2  imf로 우리나라 기업들 친중자본이 싹쓸어갔지 김영삼 김대중 이새끼들 중국새끼들 아...   \n",
       "3           3             여자가 약자라는 걸 ㅇㅈ해라\\n\\n장애인이랑 동급이라고 생각하면 편해   \n",
       "4           4                                              윤총경은?   \n",
       "\n",
       "                    혐오 여부  \n",
       "0      gender hate speech  \n",
       "1  regions descrimination  \n",
       "2         racist comments  \n",
       "3      gender hate speech  \n",
       "4  regions descrimination  "
      ]
     },
     "execution_count": 44,
     "metadata": {},
     "output_type": "execute_result"
    }
   ],
   "source": [
    "train.head()"
   ]
  },
  {
   "cell_type": "code",
   "execution_count": 45,
   "id": "unlikely-plastic",
   "metadata": {},
   "outputs": [
    {
     "data": {
      "text/plain": [
       "18875"
      ]
     },
     "execution_count": 45,
     "metadata": {},
     "output_type": "execute_result"
    }
   ],
   "source": [
    "len(train)"
   ]
  },
  {
   "cell_type": "code",
   "execution_count": 46,
   "id": "reverse-conditions",
   "metadata": {},
   "outputs": [
    {
     "data": {
      "text/html": [
       "<div>\n",
       "<style scoped>\n",
       "    .dataframe tbody tr th:only-of-type {\n",
       "        vertical-align: middle;\n",
       "    }\n",
       "\n",
       "    .dataframe tbody tr th {\n",
       "        vertical-align: top;\n",
       "    }\n",
       "\n",
       "    .dataframe thead th {\n",
       "        text-align: right;\n",
       "    }\n",
       "</style>\n",
       "<table border=\"1\" class=\"dataframe\">\n",
       "  <thead>\n",
       "    <tr style=\"text-align: right;\">\n",
       "      <th></th>\n",
       "      <th>Unnamed: 0</th>\n",
       "      <th>문장</th>\n",
       "      <th>혐오 여부</th>\n",
       "    </tr>\n",
       "  </thead>\n",
       "  <tbody>\n",
       "    <tr>\n",
       "      <th>18875</th>\n",
       "      <td>18875</td>\n",
       "      <td>정준 중간에 그만두고 ㅌㅌ하지 않았나?</td>\n",
       "      <td>dehumanizing political views</td>\n",
       "    </tr>\n",
       "    <tr>\n",
       "      <th>18876</th>\n",
       "      <td>18876</td>\n",
       "      <td>북한군에 흑인도있었냐?</td>\n",
       "      <td>racist comments</td>\n",
       "    </tr>\n",
       "    <tr>\n",
       "      <th>18877</th>\n",
       "      <td>18877</td>\n",
       "      <td>소속사도 너무 듣보인데\\n\\n시크엔젤, 아이씨유 ㅋㅋㅋ\\n\\n상가건물 지하1층.\\n...</td>\n",
       "      <td>dehumanizing political views</td>\n",
       "    </tr>\n",
       "    <tr>\n",
       "      <th>18878</th>\n",
       "      <td>18878</td>\n",
       "      <td>이게 민간인사찰 같은 거냐?</td>\n",
       "      <td>regions descrimination</td>\n",
       "    </tr>\n",
       "    <tr>\n",
       "      <th>18879</th>\n",
       "      <td>18879</td>\n",
       "      <td>ㅋㅋ\\n재미있다.</td>\n",
       "      <td>regions descrimination</td>\n",
       "    </tr>\n",
       "  </tbody>\n",
       "</table>\n",
       "</div>"
      ],
      "text/plain": [
       "       Unnamed: 0                                                 문장  \\\n",
       "18875       18875                              정준 중간에 그만두고 ㅌㅌ하지 않았나?   \n",
       "18876       18876                                       북한군에 흑인도있었냐?   \n",
       "18877       18877  소속사도 너무 듣보인데\\n\\n시크엔젤, 아이씨유 ㅋㅋㅋ\\n\\n상가건물 지하1층.\\n...   \n",
       "18878       18878                                    이게 민간인사찰 같은 거냐?   \n",
       "18879       18879                                          ㅋㅋ\\n재미있다.   \n",
       "\n",
       "                              혐오 여부  \n",
       "18875  dehumanizing political views  \n",
       "18876               racist comments  \n",
       "18877  dehumanizing political views  \n",
       "18878        regions descrimination  \n",
       "18879        regions descrimination  "
      ]
     },
     "execution_count": 46,
     "metadata": {},
     "output_type": "execute_result"
    }
   ],
   "source": [
    "test.head()"
   ]
  },
  {
   "cell_type": "code",
   "execution_count": 47,
   "id": "anonymous-commons",
   "metadata": {},
   "outputs": [
    {
     "name": "stdout",
     "output_type": "stream",
     "text": [
      "Requirement already satisfied: stanza in /opt/conda/lib/python3.8/site-packages (1.2)\n",
      "Requirement already satisfied: numpy in /opt/conda/lib/python3.8/site-packages (from stanza) (1.20.1)\n",
      "Requirement already satisfied: requests in /opt/conda/lib/python3.8/site-packages (from stanza) (2.25.1)\n",
      "Requirement already satisfied: torch>=1.3.0 in /opt/conda/lib/python3.8/site-packages (from stanza) (1.8.1)\n",
      "Requirement already satisfied: protobuf in /opt/conda/lib/python3.8/site-packages (from stanza) (3.15.6)\n",
      "Requirement already satisfied: tqdm in /opt/conda/lib/python3.8/site-packages (from stanza) (4.56.0)\n",
      "Requirement already satisfied: typing-extensions in /opt/conda/lib/python3.8/site-packages (from torch>=1.3.0->stanza) (3.7.4.3)\n",
      "Requirement already satisfied: six>=1.9 in /opt/conda/lib/python3.8/site-packages (from protobuf->stanza) (1.15.0)\n",
      "Requirement already satisfied: chardet<5,>=3.0.2 in /opt/conda/lib/python3.8/site-packages (from requests->stanza) (4.0.0)\n",
      "Requirement already satisfied: idna<3,>=2.5 in /opt/conda/lib/python3.8/site-packages (from requests->stanza) (2.10)\n",
      "Requirement already satisfied: certifi>=2017.4.17 in /opt/conda/lib/python3.8/site-packages (from requests->stanza) (2020.12.5)\n",
      "Requirement already satisfied: urllib3<1.27,>=1.21.1 in /opt/conda/lib/python3.8/site-packages (from requests->stanza) (1.26.2)\n"
     ]
    }
   ],
   "source": [
    "!pip install stanza"
   ]
  },
  {
   "cell_type": "code",
   "execution_count": 52,
   "id": "immediate-federal",
   "metadata": {},
   "outputs": [],
   "source": [
    "import spacy"
   ]
  },
  {
   "cell_type": "code",
   "execution_count": null,
   "id": "brave-differential",
   "metadata": {},
   "outputs": [],
   "source": [
    "#importing spacy and defining our teokinzer\n",
    "import stanza\n",
    "\n",
    "nlp = stanza.Pipeline(lang='ko', processors='tokenize', tokenize_no_ssplit=True)\n",
    "doc = nlp(train)\n",
    "\n",
    "def tokenize(text):\n",
    "    doc = nlp.tokenizer(text)\n",
    "    return [t.norm_ for t in doc if not (t.is_space or t.is_punct or t.like_num)]"
   ]
  },
  {
   "cell_type": "code",
   "execution_count": 53,
   "id": "buried-nigeria",
   "metadata": {},
   "outputs": [],
   "source": [
    "#import string\n",
    "#punct = set(string.punctuation)\n",
    "#def tokenize(text):\n",
    "    #doc=nlp(text)\n",
    "    #return [t.text for s in doc.sentences for t in s.tokens if not (t.text.isspace() or (t.text in punct))]"
   ]
  },
  {
   "cell_type": "code",
   "execution_count": 54,
   "id": "ahead-slope",
   "metadata": {},
   "outputs": [
    {
     "data": {
      "text/plain": [
       "['윤총경은']"
      ]
     },
     "execution_count": 54,
     "metadata": {},
     "output_type": "execute_result"
    }
   ],
   "source": [
    "tokenize(train['문장'][4])"
   ]
  },
  {
   "cell_type": "code",
   "execution_count": 29,
   "id": "tired-crazy",
   "metadata": {},
   "outputs": [
    {
     "data": {
      "text/html": [
       "<div>\n",
       "<style scoped>\n",
       "    .dataframe tbody tr th:only-of-type {\n",
       "        vertical-align: middle;\n",
       "    }\n",
       "\n",
       "    .dataframe tbody tr th {\n",
       "        vertical-align: top;\n",
       "    }\n",
       "\n",
       "    .dataframe thead th {\n",
       "        text-align: right;\n",
       "    }\n",
       "</style>\n",
       "<table border=\"1\" class=\"dataframe\">\n",
       "  <thead>\n",
       "    <tr style=\"text-align: right;\">\n",
       "      <th></th>\n",
       "      <th>Unnamed: 0</th>\n",
       "      <th>문장</th>\n",
       "      <th>혐오 여부</th>\n",
       "    </tr>\n",
       "  </thead>\n",
       "  <tbody>\n",
       "    <tr>\n",
       "      <th>0</th>\n",
       "      <td>0</td>\n",
       "      <td>솔직히 저런 대화는 남자들 사이에서 아무것도 아닌 대화지만 공개되는 순간 씹범죄자 ...</td>\n",
       "      <td>gender hate speech</td>\n",
       "    </tr>\n",
       "    <tr>\n",
       "      <th>1</th>\n",
       "      <td>1</td>\n",
       "      <td>곤뇽이 되어가는군.....</td>\n",
       "      <td>regions descrimination</td>\n",
       "    </tr>\n",
       "    <tr>\n",
       "      <th>2</th>\n",
       "      <td>2</td>\n",
       "      <td>imf로 우리나라 기업들 친중자본이 싹쓸어갔지 김영삼 김대중 이새끼들 중국새끼들 아...</td>\n",
       "      <td>racist comments</td>\n",
       "    </tr>\n",
       "    <tr>\n",
       "      <th>3</th>\n",
       "      <td>3</td>\n",
       "      <td>여자가 약자라는 걸 ㅇㅈ해라\\n\\n장애인이랑 동급이라고 생각하면 편해</td>\n",
       "      <td>gender hate speech</td>\n",
       "    </tr>\n",
       "    <tr>\n",
       "      <th>4</th>\n",
       "      <td>4</td>\n",
       "      <td>윤총경은?</td>\n",
       "      <td>regions descrimination</td>\n",
       "    </tr>\n",
       "    <tr>\n",
       "      <th>...</th>\n",
       "      <td>...</td>\n",
       "      <td>...</td>\n",
       "      <td>...</td>\n",
       "    </tr>\n",
       "    <tr>\n",
       "      <th>18870</th>\n",
       "      <td>18870</td>\n",
       "      <td>전라도 해안가에서 저지랄하다가는.. 으미 이거슨 우리 재산인디 외지인이 가져가면 쓰...</td>\n",
       "      <td>regions descrimination</td>\n",
       "    </tr>\n",
       "    <tr>\n",
       "      <th>18871</th>\n",
       "      <td>18871</td>\n",
       "      <td>노좌표 ㅁㅈㅎ</td>\n",
       "      <td>dehumanizing political views</td>\n",
       "    </tr>\n",
       "    <tr>\n",
       "      <th>18872</th>\n",
       "      <td>18872</td>\n",
       "      <td>그럼 여자들이 발롱도르 뭔지 모르면 수상자들 다 좆밥???</td>\n",
       "      <td>gender hate speech</td>\n",
       "    </tr>\n",
       "    <tr>\n",
       "      <th>18873</th>\n",
       "      <td>18873</td>\n",
       "      <td>근데 누구냐? 만화 그리는 사람 같은데. 원혁?</td>\n",
       "      <td>dehumanizing political views</td>\n",
       "    </tr>\n",
       "    <tr>\n",
       "      <th>18874</th>\n",
       "      <td>18874</td>\n",
       "      <td>중동여자가 그렇게 쩐다는데\\n\\n먹어봄?\\n\\n덩꼬로 해봤나</td>\n",
       "      <td>gender hate speech</td>\n",
       "    </tr>\n",
       "  </tbody>\n",
       "</table>\n",
       "<p>18875 rows × 3 columns</p>\n",
       "</div>"
      ],
      "text/plain": [
       "       Unnamed: 0                                                 문장  \\\n",
       "0               0  솔직히 저런 대화는 남자들 사이에서 아무것도 아닌 대화지만 공개되는 순간 씹범죄자 ...   \n",
       "1               1                                     곤뇽이 되어가는군.....   \n",
       "2               2  imf로 우리나라 기업들 친중자본이 싹쓸어갔지 김영삼 김대중 이새끼들 중국새끼들 아...   \n",
       "3               3             여자가 약자라는 걸 ㅇㅈ해라\\n\\n장애인이랑 동급이라고 생각하면 편해   \n",
       "4               4                                              윤총경은?   \n",
       "...           ...                                                ...   \n",
       "18870       18870  전라도 해안가에서 저지랄하다가는.. 으미 이거슨 우리 재산인디 외지인이 가져가면 쓰...   \n",
       "18871       18871                                            노좌표 ㅁㅈㅎ   \n",
       "18872       18872                   그럼 여자들이 발롱도르 뭔지 모르면 수상자들 다 좆밥???   \n",
       "18873       18873                         근데 누구냐? 만화 그리는 사람 같은데. 원혁?   \n",
       "18874       18874                  중동여자가 그렇게 쩐다는데\\n\\n먹어봄?\\n\\n덩꼬로 해봤나   \n",
       "\n",
       "                              혐오 여부  \n",
       "0                gender hate speech  \n",
       "1            regions descrimination  \n",
       "2                   racist comments  \n",
       "3                gender hate speech  \n",
       "4            regions descrimination  \n",
       "...                             ...  \n",
       "18870        regions descrimination  \n",
       "18871  dehumanizing political views  \n",
       "18872            gender hate speech  \n",
       "18873  dehumanizing political views  \n",
       "18874            gender hate speech  \n",
       "\n",
       "[18875 rows x 3 columns]"
      ]
     },
     "execution_count": 29,
     "metadata": {},
     "output_type": "execute_result"
    }
   ],
   "source": [
    "train"
   ]
  },
  {
   "cell_type": "code",
   "execution_count": 50,
   "id": "enormous-finance",
   "metadata": {},
   "outputs": [
    {
     "name": "stderr",
     "output_type": "stream",
     "text": [
      "2021-05-04 00:58:29 INFO: Loading these models for language: ko (Korean):\n",
      "=======================\n",
      "| Processor | Package |\n",
      "-----------------------\n",
      "| tokenize  | kaist   |\n",
      "=======================\n",
      "\n",
      "2021-05-04 00:58:29 INFO: Use device: cpu\n",
      "2021-05-04 00:58:29 INFO: Loading: tokenize\n",
      "2021-05-04 00:58:29 INFO: Done loading processors!\n"
     ]
    },
    {
     "ename": "AssertionError",
     "evalue": "input should be either str, list or Document",
     "output_type": "error",
     "traceback": [
      "\u001b[0;31m---------------------------------------------------------------------------\u001b[0m",
      "\u001b[0;31mAssertionError\u001b[0m                            Traceback (most recent call last)",
      "\u001b[0;32m<ipython-input-50-52280bcb1b43>\u001b[0m in \u001b[0;36m<module>\u001b[0;34m\u001b[0m\n\u001b[1;32m      3\u001b[0m \u001b[0;34m\u001b[0m\u001b[0m\n\u001b[1;32m      4\u001b[0m \u001b[0mnlp\u001b[0m \u001b[0;34m=\u001b[0m \u001b[0mstanza\u001b[0m\u001b[0;34m.\u001b[0m\u001b[0mPipeline\u001b[0m\u001b[0;34m(\u001b[0m\u001b[0mlang\u001b[0m\u001b[0;34m=\u001b[0m\u001b[0;34m'ko'\u001b[0m\u001b[0;34m,\u001b[0m \u001b[0mprocessors\u001b[0m\u001b[0;34m=\u001b[0m\u001b[0;34m'tokenize'\u001b[0m\u001b[0;34m,\u001b[0m \u001b[0mtokenize_no_ssplit\u001b[0m\u001b[0;34m=\u001b[0m\u001b[0;32mTrue\u001b[0m\u001b[0;34m)\u001b[0m\u001b[0;34m\u001b[0m\u001b[0;34m\u001b[0m\u001b[0m\n\u001b[0;32m----> 5\u001b[0;31m \u001b[0mdoc\u001b[0m \u001b[0;34m=\u001b[0m \u001b[0mnlp\u001b[0m\u001b[0;34m(\u001b[0m\u001b[0mtrain\u001b[0m\u001b[0;34m)\u001b[0m\u001b[0;34m\u001b[0m\u001b[0;34m\u001b[0m\u001b[0m\n\u001b[0m\u001b[1;32m      6\u001b[0m \u001b[0;34m\u001b[0m\u001b[0m\n\u001b[1;32m      7\u001b[0m \u001b[0;32mdef\u001b[0m \u001b[0mtokenize\u001b[0m\u001b[0;34m(\u001b[0m\u001b[0mtext\u001b[0m\u001b[0;34m)\u001b[0m\u001b[0;34m:\u001b[0m\u001b[0;34m\u001b[0m\u001b[0;34m\u001b[0m\u001b[0m\n",
      "\u001b[0;32m/opt/conda/lib/python3.8/site-packages/stanza/pipeline/core.py\u001b[0m in \u001b[0;36m__call__\u001b[0;34m(self, doc)\u001b[0m\n\u001b[1;32m    206\u001b[0m \u001b[0;34m\u001b[0m\u001b[0m\n\u001b[1;32m    207\u001b[0m     \u001b[0;32mdef\u001b[0m \u001b[0m__call__\u001b[0m\u001b[0;34m(\u001b[0m\u001b[0mself\u001b[0m\u001b[0;34m,\u001b[0m \u001b[0mdoc\u001b[0m\u001b[0;34m)\u001b[0m\u001b[0;34m:\u001b[0m\u001b[0;34m\u001b[0m\u001b[0;34m\u001b[0m\u001b[0m\n\u001b[0;32m--> 208\u001b[0;31m         assert any([isinstance(doc, str), isinstance(doc, list),\n\u001b[0m\u001b[1;32m    209\u001b[0m                     isinstance(doc, Document)]), 'input should be either str, list or Document'\n\u001b[1;32m    210\u001b[0m         \u001b[0mdoc\u001b[0m \u001b[0;34m=\u001b[0m \u001b[0mself\u001b[0m\u001b[0;34m.\u001b[0m\u001b[0mprocess\u001b[0m\u001b[0;34m(\u001b[0m\u001b[0mdoc\u001b[0m\u001b[0;34m)\u001b[0m\u001b[0;34m\u001b[0m\u001b[0;34m\u001b[0m\u001b[0m\n",
      "\u001b[0;31mAssertionError\u001b[0m: input should be either str, list or Document"
     ]
    }
   ],
   "source": [
    "#importing spacy and defining our teokinzer\n",
    "import stanza\n",
    "\n",
    "nlp = stanza.Pipeline(lang='ko', processors='tokenize', tokenize_no_ssplit=True)\n",
    "doc = nlp(train)\n",
    "\n",
    "def tokenize(text):\n",
    "    doc = nlp.tokenizer(text)\n",
    "    return [t.norm_ for t in doc if not (t.is_space or t.is_punct or t.like_num)]"
   ]
  },
  {
   "cell_type": "code",
   "execution_count": 55,
   "id": "downtown-concentration",
   "metadata": {},
   "outputs": [],
   "source": [
    "import multiprocessing as mp"
   ]
  },
  {
   "cell_type": "code",
   "execution_count": 57,
   "id": "downtown-shape",
   "metadata": {},
   "outputs": [],
   "source": [
    "tokenized_series = test[\"문장\"].map(tokenize)"
   ]
  },
  {
   "cell_type": "code",
   "execution_count": 58,
   "id": "careful-slave",
   "metadata": {},
   "outputs": [
    {
     "data": {
      "text/plain": [
       "18875                           [정준, 중간에, 그만두고, ㅌㅌ하지, 않았나]\n",
       "18876                                       [북한군에, 흑인도있었냐]\n",
       "18877    [소속사도, 너무, 듣보인데, 시크엔젤, 아이씨유, ㅋㅋㅋ, 상가건물, 지하1층.,...\n",
       "18878                                  [이게, 민간인사찰, 같은, 거냐]\n",
       "18879                                           [ㅋㅋ, 재미있다]\n",
       "                               ...                        \n",
       "23589                                          [신후게이야, ㅠㅠ]\n",
       "23590    [최순실, 300조, 안민돌새끼는, 진짜, 사기죄로, 처넣어야함, 일본의, 무력에,...\n",
       "23591                                    [경상도일, 확률, 1026%]\n",
       "23592                            [개쌍도가주도하는질서전라도가기생충처럼나라를살]\n",
       "23593    [아무래도, 우파로, 간, 김미균을, 시기하는, 좌파들의, 공작이, 시작, 된듯, 하다]\n",
       "Name: 문장, Length: 4719, dtype: object"
      ]
     },
     "execution_count": 58,
     "metadata": {},
     "output_type": "execute_result"
    }
   ],
   "source": [
    "tokenized_series"
   ]
  },
  {
   "cell_type": "code",
   "execution_count": 59,
   "id": "selected-transcript",
   "metadata": {},
   "outputs": [],
   "source": [
    "q = pd.concat([test, tokenized_series.rename('tokens')], axis = 1)\n",
    "q.to_csv('test.csv')"
   ]
  },
  {
   "cell_type": "code",
   "execution_count": 60,
   "id": "regulation-jonathan",
   "metadata": {},
   "outputs": [
    {
     "data": {
      "text/html": [
       "<div>\n",
       "<style scoped>\n",
       "    .dataframe tbody tr th:only-of-type {\n",
       "        vertical-align: middle;\n",
       "    }\n",
       "\n",
       "    .dataframe tbody tr th {\n",
       "        vertical-align: top;\n",
       "    }\n",
       "\n",
       "    .dataframe thead th {\n",
       "        text-align: right;\n",
       "    }\n",
       "</style>\n",
       "<table border=\"1\" class=\"dataframe\">\n",
       "  <thead>\n",
       "    <tr style=\"text-align: right;\">\n",
       "      <th></th>\n",
       "      <th>Unnamed: 0</th>\n",
       "      <th>문장</th>\n",
       "      <th>혐오 여부</th>\n",
       "      <th>tokens</th>\n",
       "    </tr>\n",
       "  </thead>\n",
       "  <tbody>\n",
       "    <tr>\n",
       "      <th>18875</th>\n",
       "      <td>18875</td>\n",
       "      <td>정준 중간에 그만두고 ㅌㅌ하지 않았나?</td>\n",
       "      <td>dehumanizing political views</td>\n",
       "      <td>[정준, 중간에, 그만두고, ㅌㅌ하지, 않았나]</td>\n",
       "    </tr>\n",
       "    <tr>\n",
       "      <th>18876</th>\n",
       "      <td>18876</td>\n",
       "      <td>북한군에 흑인도있었냐?</td>\n",
       "      <td>racist comments</td>\n",
       "      <td>[북한군에, 흑인도있었냐]</td>\n",
       "    </tr>\n",
       "    <tr>\n",
       "      <th>18877</th>\n",
       "      <td>18877</td>\n",
       "      <td>소속사도 너무 듣보인데\\n\\n시크엔젤, 아이씨유 ㅋㅋㅋ\\n\\n상가건물 지하1층.\\n...</td>\n",
       "      <td>dehumanizing political views</td>\n",
       "      <td>[소속사도, 너무, 듣보인데, 시크엔젤, 아이씨유, ㅋㅋㅋ, 상가건물, 지하1층.,...</td>\n",
       "    </tr>\n",
       "    <tr>\n",
       "      <th>18878</th>\n",
       "      <td>18878</td>\n",
       "      <td>이게 민간인사찰 같은 거냐?</td>\n",
       "      <td>regions descrimination</td>\n",
       "      <td>[이게, 민간인사찰, 같은, 거냐]</td>\n",
       "    </tr>\n",
       "    <tr>\n",
       "      <th>18879</th>\n",
       "      <td>18879</td>\n",
       "      <td>ㅋㅋ\\n재미있다.</td>\n",
       "      <td>regions descrimination</td>\n",
       "      <td>[ㅋㅋ, 재미있다]</td>\n",
       "    </tr>\n",
       "    <tr>\n",
       "      <th>...</th>\n",
       "      <td>...</td>\n",
       "      <td>...</td>\n",
       "      <td>...</td>\n",
       "      <td>...</td>\n",
       "    </tr>\n",
       "    <tr>\n",
       "      <th>23589</th>\n",
       "      <td>23589</td>\n",
       "      <td>신후게이야 ㅠㅠ</td>\n",
       "      <td>regions descrimination</td>\n",
       "      <td>[신후게이야, ㅠㅠ]</td>\n",
       "    </tr>\n",
       "    <tr>\n",
       "      <th>23590</th>\n",
       "      <td>23590</td>\n",
       "      <td>최순실 300조 안민돌새끼는 진짜 사기죄로 처넣어야함\\n\\n일본의 무력에 굴복해서 ...</td>\n",
       "      <td>regions descrimination</td>\n",
       "      <td>[최순실, 300조, 안민돌새끼는, 진짜, 사기죄로, 처넣어야함, 일본의, 무력에,...</td>\n",
       "    </tr>\n",
       "    <tr>\n",
       "      <th>23591</th>\n",
       "      <td>23591</td>\n",
       "      <td>경상도일 확률 1026%</td>\n",
       "      <td>gender hate speech</td>\n",
       "      <td>[경상도일, 확률, 1026%]</td>\n",
       "    </tr>\n",
       "    <tr>\n",
       "      <th>23592</th>\n",
       "      <td>23592</td>\n",
       "      <td>개쌍도가주도하는질서전라도가기생충처럼나라를살</td>\n",
       "      <td>dehumanizing political views</td>\n",
       "      <td>[개쌍도가주도하는질서전라도가기생충처럼나라를살]</td>\n",
       "    </tr>\n",
       "    <tr>\n",
       "      <th>23593</th>\n",
       "      <td>23593</td>\n",
       "      <td>아무래도 우파로 간 김미균을 시기하는\\n좌파들의 공작이 시작 된듯 하다</td>\n",
       "      <td>dehumanizing political views</td>\n",
       "      <td>[아무래도, 우파로, 간, 김미균을, 시기하는, 좌파들의, 공작이, 시작, 된듯, 하다]</td>\n",
       "    </tr>\n",
       "  </tbody>\n",
       "</table>\n",
       "<p>4719 rows × 4 columns</p>\n",
       "</div>"
      ],
      "text/plain": [
       "       Unnamed: 0                                                 문장  \\\n",
       "18875       18875                              정준 중간에 그만두고 ㅌㅌ하지 않았나?   \n",
       "18876       18876                                       북한군에 흑인도있었냐?   \n",
       "18877       18877  소속사도 너무 듣보인데\\n\\n시크엔젤, 아이씨유 ㅋㅋㅋ\\n\\n상가건물 지하1층.\\n...   \n",
       "18878       18878                                    이게 민간인사찰 같은 거냐?   \n",
       "18879       18879                                          ㅋㅋ\\n재미있다.   \n",
       "...           ...                                                ...   \n",
       "23589       23589                                           신후게이야 ㅠㅠ   \n",
       "23590       23590  최순실 300조 안민돌새끼는 진짜 사기죄로 처넣어야함\\n\\n일본의 무력에 굴복해서 ...   \n",
       "23591       23591                                      경상도일 확률 1026%   \n",
       "23592       23592                            개쌍도가주도하는질서전라도가기생충처럼나라를살   \n",
       "23593       23593            아무래도 우파로 간 김미균을 시기하는\\n좌파들의 공작이 시작 된듯 하다   \n",
       "\n",
       "                              혐오 여부  \\\n",
       "18875  dehumanizing political views   \n",
       "18876               racist comments   \n",
       "18877  dehumanizing political views   \n",
       "18878        regions descrimination   \n",
       "18879        regions descrimination   \n",
       "...                             ...   \n",
       "23589        regions descrimination   \n",
       "23590        regions descrimination   \n",
       "23591            gender hate speech   \n",
       "23592  dehumanizing political views   \n",
       "23593  dehumanizing political views   \n",
       "\n",
       "                                                  tokens  \n",
       "18875                         [정준, 중간에, 그만두고, ㅌㅌ하지, 않았나]  \n",
       "18876                                     [북한군에, 흑인도있었냐]  \n",
       "18877  [소속사도, 너무, 듣보인데, 시크엔젤, 아이씨유, ㅋㅋㅋ, 상가건물, 지하1층.,...  \n",
       "18878                                [이게, 민간인사찰, 같은, 거냐]  \n",
       "18879                                         [ㅋㅋ, 재미있다]  \n",
       "...                                                  ...  \n",
       "23589                                        [신후게이야, ㅠㅠ]  \n",
       "23590  [최순실, 300조, 안민돌새끼는, 진짜, 사기죄로, 처넣어야함, 일본의, 무력에,...  \n",
       "23591                                  [경상도일, 확률, 1026%]  \n",
       "23592                          [개쌍도가주도하는질서전라도가기생충처럼나라를살]  \n",
       "23593  [아무래도, 우파로, 간, 김미균을, 시기하는, 좌파들의, 공작이, 시작, 된듯, 하다]  \n",
       "\n",
       "[4719 rows x 4 columns]"
      ]
     },
     "execution_count": 60,
     "metadata": {},
     "output_type": "execute_result"
    }
   ],
   "source": [
    "q"
   ]
  },
  {
   "cell_type": "code",
   "execution_count": 131,
   "id": "opponent-cooper",
   "metadata": {},
   "outputs": [],
   "source": [
    "train = pd.concat([train, tokenized_series.rename('tokens')], axis = 1)\n",
    "d.to_csv('test.csv')"
   ]
  },
  {
   "cell_type": "code",
   "execution_count": 122,
   "id": "hydraulic-salem",
   "metadata": {},
   "outputs": [
    {
     "data": {
      "text/html": [
       "<div>\n",
       "<style scoped>\n",
       "    .dataframe tbody tr th:only-of-type {\n",
       "        vertical-align: middle;\n",
       "    }\n",
       "\n",
       "    .dataframe tbody tr th {\n",
       "        vertical-align: top;\n",
       "    }\n",
       "\n",
       "    .dataframe thead th {\n",
       "        text-align: right;\n",
       "    }\n",
       "</style>\n",
       "<table border=\"1\" class=\"dataframe\">\n",
       "  <thead>\n",
       "    <tr style=\"text-align: right;\">\n",
       "      <th></th>\n",
       "      <th>Unnamed: 0</th>\n",
       "      <th>문장</th>\n",
       "      <th>혐오 여부</th>\n",
       "      <th>tokens</th>\n",
       "    </tr>\n",
       "  </thead>\n",
       "  <tbody>\n",
       "    <tr>\n",
       "      <th>0</th>\n",
       "      <td>0</td>\n",
       "      <td>솔직히 저런 대화는 남자들 사이에서 아무것도 아닌 대화지만 공개되는 순간 씹범죄자 ...</td>\n",
       "      <td>gender hate speech</td>\n",
       "      <td>[솔직히, 저런, 대화는, 남자들, 사이에서, 아무것도, 아닌, 대화지만, 공개되는...</td>\n",
       "    </tr>\n",
       "    <tr>\n",
       "      <th>1</th>\n",
       "      <td>1</td>\n",
       "      <td>곤뇽이 되어가는군.....</td>\n",
       "      <td>regions descrimination</td>\n",
       "      <td>[곤뇽이, 되어가는군]</td>\n",
       "    </tr>\n",
       "    <tr>\n",
       "      <th>2</th>\n",
       "      <td>2</td>\n",
       "      <td>imf로 우리나라 기업들 친중자본이 싹쓸어갔지 김영삼 김대중 이새끼들 중국새끼들 아...</td>\n",
       "      <td>racist comments</td>\n",
       "      <td>[imf로, 우리나라, 기업들, 친중자본이, 싹쓸어갔지, 김영삼, 김대중, 이새끼들...</td>\n",
       "    </tr>\n",
       "    <tr>\n",
       "      <th>3</th>\n",
       "      <td>3</td>\n",
       "      <td>여자가 약자라는 걸 ㅇㅈ해라\\n\\n장애인이랑 동급이라고 생각하면 편해</td>\n",
       "      <td>gender hate speech</td>\n",
       "      <td>[여자가, 약자라는, 걸, ㅇㅈ해라, 장애인이랑, 동급이라고, 생각하면, 편해]</td>\n",
       "    </tr>\n",
       "    <tr>\n",
       "      <th>4</th>\n",
       "      <td>4</td>\n",
       "      <td>윤총경은?</td>\n",
       "      <td>regions descrimination</td>\n",
       "      <td>[윤총경은]</td>\n",
       "    </tr>\n",
       "  </tbody>\n",
       "</table>\n",
       "</div>"
      ],
      "text/plain": [
       "   Unnamed: 0                                                 문장  \\\n",
       "0           0  솔직히 저런 대화는 남자들 사이에서 아무것도 아닌 대화지만 공개되는 순간 씹범죄자 ...   \n",
       "1           1                                     곤뇽이 되어가는군.....   \n",
       "2           2  imf로 우리나라 기업들 친중자본이 싹쓸어갔지 김영삼 김대중 이새끼들 중국새끼들 아...   \n",
       "3           3             여자가 약자라는 걸 ㅇㅈ해라\\n\\n장애인이랑 동급이라고 생각하면 편해   \n",
       "4           4                                              윤총경은?   \n",
       "\n",
       "                    혐오 여부                                             tokens  \n",
       "0      gender hate speech  [솔직히, 저런, 대화는, 남자들, 사이에서, 아무것도, 아닌, 대화지만, 공개되는...  \n",
       "1  regions descrimination                                       [곤뇽이, 되어가는군]  \n",
       "2         racist comments  [imf로, 우리나라, 기업들, 친중자본이, 싹쓸어갔지, 김영삼, 김대중, 이새끼들...  \n",
       "3      gender hate speech       [여자가, 약자라는, 걸, ㅇㅈ해라, 장애인이랑, 동급이라고, 생각하면, 편해]  \n",
       "4  regions descrimination                                             [윤총경은]  "
      ]
     },
     "execution_count": 122,
     "metadata": {},
     "output_type": "execute_result"
    }
   ],
   "source": [
    "t.head()"
   ]
  },
  {
   "cell_type": "code",
   "execution_count": 61,
   "id": "entertaining-novelty",
   "metadata": {},
   "outputs": [],
   "source": [
    "train = pd.read_csv('training.csv')\n",
    "test = pd.read_csv('test.csv')"
   ]
  },
  {
   "cell_type": "code",
   "execution_count": 62,
   "id": "lyric-london",
   "metadata": {},
   "outputs": [
    {
     "data": {
      "text/plain": [
       "dehumanizing political views    4801\n",
       "regions descrimination          4786\n",
       "racist comments                 4658\n",
       "gender hate speech              4630\n",
       "Name: 혐오 여부, dtype: int64"
      ]
     },
     "execution_count": 62,
     "metadata": {},
     "output_type": "execute_result"
    }
   ],
   "source": [
    "#looking at our categories\n",
    "train[\"혐오 여부\"].value_counts()"
   ]
  },
  {
   "cell_type": "code",
   "execution_count": 63,
   "id": "median-binding",
   "metadata": {},
   "outputs": [],
   "source": [
    "#importing necessary sklearn tools needed to conduct analysis\n",
    "from sklearn.feature_extraction.text import CountVectorizer, TfidfTransformer\n",
    "from sklearn.linear_model import SGDClassifier\n",
    "from sklearn.metrics import classification_report, f1_score\n",
    "from sklearn.pipeline import make_pipeline"
   ]
  },
  {
   "cell_type": "code",
   "execution_count": 64,
   "id": "macro-blackjack",
   "metadata": {},
   "outputs": [
    {
     "data": {
      "text/html": [
       "<div>\n",
       "<style scoped>\n",
       "    .dataframe tbody tr th:only-of-type {\n",
       "        vertical-align: middle;\n",
       "    }\n",
       "\n",
       "    .dataframe tbody tr th {\n",
       "        vertical-align: top;\n",
       "    }\n",
       "\n",
       "    .dataframe thead th {\n",
       "        text-align: right;\n",
       "    }\n",
       "</style>\n",
       "<table border=\"1\" class=\"dataframe\">\n",
       "  <thead>\n",
       "    <tr style=\"text-align: right;\">\n",
       "      <th></th>\n",
       "      <th>Unnamed: 0</th>\n",
       "      <th>Unnamed: 0.1</th>\n",
       "      <th>문장</th>\n",
       "      <th>혐오 여부</th>\n",
       "      <th>tokens</th>\n",
       "    </tr>\n",
       "  </thead>\n",
       "  <tbody>\n",
       "    <tr>\n",
       "      <th>0</th>\n",
       "      <td>18875</td>\n",
       "      <td>18875</td>\n",
       "      <td>정준 중간에 그만두고 ㅌㅌ하지 않았나?</td>\n",
       "      <td>dehumanizing political views</td>\n",
       "      <td>['정준', '중간에', '그만두고', 'ㅌㅌ하지', '않았나']</td>\n",
       "    </tr>\n",
       "    <tr>\n",
       "      <th>1</th>\n",
       "      <td>18876</td>\n",
       "      <td>18876</td>\n",
       "      <td>북한군에 흑인도있었냐?</td>\n",
       "      <td>racist comments</td>\n",
       "      <td>['북한군에', '흑인도있었냐']</td>\n",
       "    </tr>\n",
       "    <tr>\n",
       "      <th>2</th>\n",
       "      <td>18877</td>\n",
       "      <td>18877</td>\n",
       "      <td>소속사도 너무 듣보인데\\n\\n시크엔젤, 아이씨유 ㅋㅋㅋ\\n\\n상가건물 지하1층.\\n...</td>\n",
       "      <td>dehumanizing political views</td>\n",
       "      <td>['소속사도', '너무', '듣보인데', '시크엔젤', '아이씨유', 'ㅋㅋㅋ', ...</td>\n",
       "    </tr>\n",
       "    <tr>\n",
       "      <th>3</th>\n",
       "      <td>18878</td>\n",
       "      <td>18878</td>\n",
       "      <td>이게 민간인사찰 같은 거냐?</td>\n",
       "      <td>regions descrimination</td>\n",
       "      <td>['이게', '민간인사찰', '같은', '거냐']</td>\n",
       "    </tr>\n",
       "    <tr>\n",
       "      <th>4</th>\n",
       "      <td>18879</td>\n",
       "      <td>18879</td>\n",
       "      <td>ㅋㅋ\\n재미있다.</td>\n",
       "      <td>regions descrimination</td>\n",
       "      <td>['ㅋㅋ', '재미있다']</td>\n",
       "    </tr>\n",
       "  </tbody>\n",
       "</table>\n",
       "</div>"
      ],
      "text/plain": [
       "   Unnamed: 0  Unnamed: 0.1  \\\n",
       "0       18875         18875   \n",
       "1       18876         18876   \n",
       "2       18877         18877   \n",
       "3       18878         18878   \n",
       "4       18879         18879   \n",
       "\n",
       "                                                  문장  \\\n",
       "0                              정준 중간에 그만두고 ㅌㅌ하지 않았나?   \n",
       "1                                       북한군에 흑인도있었냐?   \n",
       "2  소속사도 너무 듣보인데\\n\\n시크엔젤, 아이씨유 ㅋㅋㅋ\\n\\n상가건물 지하1층.\\n...   \n",
       "3                                    이게 민간인사찰 같은 거냐?   \n",
       "4                                          ㅋㅋ\\n재미있다.   \n",
       "\n",
       "                          혐오 여부  \\\n",
       "0  dehumanizing political views   \n",
       "1               racist comments   \n",
       "2  dehumanizing political views   \n",
       "3        regions descrimination   \n",
       "4        regions descrimination   \n",
       "\n",
       "                                              tokens  \n",
       "0               ['정준', '중간에', '그만두고', 'ㅌㅌ하지', '않았나']  \n",
       "1                                 ['북한군에', '흑인도있었냐']  \n",
       "2  ['소속사도', '너무', '듣보인데', '시크엔젤', '아이씨유', 'ㅋㅋㅋ', ...  \n",
       "3                        ['이게', '민간인사찰', '같은', '거냐']  \n",
       "4                                     ['ㅋㅋ', '재미있다']  "
      ]
     },
     "execution_count": 64,
     "metadata": {},
     "output_type": "execute_result"
    }
   ],
   "source": [
    "\n",
    "test.head()"
   ]
  },
  {
   "cell_type": "code",
   "execution_count": 65,
   "id": "familiar-snake",
   "metadata": {},
   "outputs": [
    {
     "data": {
      "text/html": [
       "<div>\n",
       "<style scoped>\n",
       "    .dataframe tbody tr th:only-of-type {\n",
       "        vertical-align: middle;\n",
       "    }\n",
       "\n",
       "    .dataframe tbody tr th {\n",
       "        vertical-align: top;\n",
       "    }\n",
       "\n",
       "    .dataframe thead th {\n",
       "        text-align: right;\n",
       "    }\n",
       "</style>\n",
       "<table border=\"1\" class=\"dataframe\">\n",
       "  <thead>\n",
       "    <tr style=\"text-align: right;\">\n",
       "      <th></th>\n",
       "      <th>Unnamed: 0</th>\n",
       "      <th>Unnamed: 0.1</th>\n",
       "      <th>문장</th>\n",
       "      <th>혐오 여부</th>\n",
       "      <th>tokens</th>\n",
       "    </tr>\n",
       "  </thead>\n",
       "  <tbody>\n",
       "    <tr>\n",
       "      <th>0</th>\n",
       "      <td>0</td>\n",
       "      <td>0</td>\n",
       "      <td>솔직히 저런 대화는 남자들 사이에서 아무것도 아닌 대화지만 공개되는 순간 씹범죄자 ...</td>\n",
       "      <td>gender hate speech</td>\n",
       "      <td>['솔직히', '저런', '대화는', '남자들', '사이에서', '아무것도', '아...</td>\n",
       "    </tr>\n",
       "    <tr>\n",
       "      <th>1</th>\n",
       "      <td>1</td>\n",
       "      <td>1</td>\n",
       "      <td>곤뇽이 되어가는군.....</td>\n",
       "      <td>regions descrimination</td>\n",
       "      <td>['곤뇽이', '되어가는군']</td>\n",
       "    </tr>\n",
       "    <tr>\n",
       "      <th>2</th>\n",
       "      <td>2</td>\n",
       "      <td>2</td>\n",
       "      <td>imf로 우리나라 기업들 친중자본이 싹쓸어갔지 김영삼 김대중 이새끼들 중국새끼들 아...</td>\n",
       "      <td>racist comments</td>\n",
       "      <td>['imf로', '우리나라', '기업들', '친중자본이', '싹쓸어갔지', '김영삼...</td>\n",
       "    </tr>\n",
       "    <tr>\n",
       "      <th>3</th>\n",
       "      <td>3</td>\n",
       "      <td>3</td>\n",
       "      <td>여자가 약자라는 걸 ㅇㅈ해라\\n\\n장애인이랑 동급이라고 생각하면 편해</td>\n",
       "      <td>gender hate speech</td>\n",
       "      <td>['여자가', '약자라는', '걸', 'ㅇㅈ해라', '장애인이랑', '동급이라고',...</td>\n",
       "    </tr>\n",
       "    <tr>\n",
       "      <th>4</th>\n",
       "      <td>4</td>\n",
       "      <td>4</td>\n",
       "      <td>윤총경은?</td>\n",
       "      <td>regions descrimination</td>\n",
       "      <td>['윤총경은']</td>\n",
       "    </tr>\n",
       "  </tbody>\n",
       "</table>\n",
       "</div>"
      ],
      "text/plain": [
       "   Unnamed: 0  Unnamed: 0.1  \\\n",
       "0           0             0   \n",
       "1           1             1   \n",
       "2           2             2   \n",
       "3           3             3   \n",
       "4           4             4   \n",
       "\n",
       "                                                  문장                   혐오 여부  \\\n",
       "0  솔직히 저런 대화는 남자들 사이에서 아무것도 아닌 대화지만 공개되는 순간 씹범죄자 ...      gender hate speech   \n",
       "1                                     곤뇽이 되어가는군.....  regions descrimination   \n",
       "2  imf로 우리나라 기업들 친중자본이 싹쓸어갔지 김영삼 김대중 이새끼들 중국새끼들 아...         racist comments   \n",
       "3             여자가 약자라는 걸 ㅇㅈ해라\\n\\n장애인이랑 동급이라고 생각하면 편해      gender hate speech   \n",
       "4                                              윤총경은?  regions descrimination   \n",
       "\n",
       "                                              tokens  \n",
       "0  ['솔직히', '저런', '대화는', '남자들', '사이에서', '아무것도', '아...  \n",
       "1                                   ['곤뇽이', '되어가는군']  \n",
       "2  ['imf로', '우리나라', '기업들', '친중자본이', '싹쓸어갔지', '김영삼...  \n",
       "3  ['여자가', '약자라는', '걸', 'ㅇㅈ해라', '장애인이랑', '동급이라고',...  \n",
       "4                                           ['윤총경은']  "
      ]
     },
     "execution_count": 65,
     "metadata": {},
     "output_type": "execute_result"
    }
   ],
   "source": [
    "train.head()"
   ]
  },
  {
   "cell_type": "code",
   "execution_count": 66,
   "id": "demanding-alexander",
   "metadata": {},
   "outputs": [
    {
     "name": "stdout",
     "output_type": "stream",
     "text": [
      "                              precision    recall  f1-score   support\n",
      "\n",
      "dehumanizing political views       0.57      0.54      0.56      1199\n",
      "          gender hate speech       0.82      0.49      0.62      1165\n",
      "             racist comments       0.62      0.91      0.74      1142\n",
      "      regions descrimination       0.70      0.69      0.70      1213\n",
      "\n",
      "                    accuracy                           0.66      4719\n",
      "                   macro avg       0.68      0.66      0.65      4719\n",
      "                weighted avg       0.68      0.66      0.65      4719\n",
      "\n"
     ]
    }
   ],
   "source": [
    "#establishing our baseline to determine a threshold to try to beat for our sgdclassifier\n",
    "baseline = make_pipeline(CountVectorizer(analyzer=identity), SGDClassifier())\n",
    "baseline.fit(train['tokens'], train[\"혐오 여부\"])\n",
    "base_predicted = baseline.predict(test['tokens'])\n",
    "print(classification_report(test[\"혐오 여부\"], base_predicted))"
   ]
  },
  {
   "cell_type": "code",
   "execution_count": 67,
   "id": "organized-classroom",
   "metadata": {},
   "outputs": [],
   "source": [
    "#storing our model results to mlflow and visually see how our model did\n",
    "import mlflow\n",
    "from dask_ml.model_selection import RandomizedSearchCV\n",
    "from logger import log_search\n",
    "from scipy.stats.distributions import loguniform, randint, uniform"
   ]
  },
  {
   "cell_type": "code",
   "execution_count": 68,
   "id": "smooth-spouse",
   "metadata": {},
   "outputs": [],
   "source": [
    "from warnings import simplefilter\n",
    "\n",
    "simplefilter(action=\"ignore\", category=FutureWarning)"
   ]
  },
  {
   "cell_type": "code",
   "execution_count": 69,
   "id": "diagnostic-forge",
   "metadata": {},
   "outputs": [
    {
     "data": {
      "text/html": [
       "<table style=\"border: 2px solid white;\">\n",
       "<tr>\n",
       "<td style=\"vertical-align: top; border: 0px solid white\">\n",
       "<h3 style=\"text-align: left;\">Client</h3>\n",
       "<ul style=\"text-align: left; list-style: none; margin: 0; padding: 0;\">\n",
       "  <li><b>Scheduler: </b>tcp://127.0.0.1:46091</li>\n",
       "  <li><b>Dashboard: </b><a href='http://127.0.0.1:8787/status' target='_blank'>http://127.0.0.1:8787/status</a></li>\n",
       "</ul>\n",
       "</td>\n",
       "<td style=\"vertical-align: top; border: 0px solid white\">\n",
       "<h3 style=\"text-align: left;\">Cluster</h3>\n",
       "<ul style=\"text-align: left; list-style:none; margin: 0; padding: 0;\">\n",
       "  <li><b>Workers: </b>4</li>\n",
       "  <li><b>Cores: </b>4</li>\n",
       "  <li><b>Memory: </b>16.62 GB</li>\n",
       "</ul>\n",
       "</td>\n",
       "</tr>\n",
       "</table>"
      ],
      "text/plain": [
       "<Client: 'tcp://127.0.0.1:46091' processes=4 threads=4, memory=16.62 GB>"
      ]
     },
     "execution_count": 69,
     "metadata": {},
     "output_type": "execute_result"
    }
   ],
   "source": [
    "from dask.distributed import Client\n",
    "\n",
    "client = Client(\"tcp://127.0.0.1:46091\")\n",
    "client"
   ]
  },
  {
   "cell_type": "code",
   "execution_count": 70,
   "id": "tracked-membership",
   "metadata": {},
   "outputs": [],
   "source": [
    "#created a pipeline for sgdclassifier\n",
    "mlflow.set_experiment(\"final-project-\")\n",
    "sgd = make_pipeline(\n",
    "    CountVectorizer(analyzer=identity), TfidfTransformer(), SGDClassifier()\n",
    ")"
   ]
  },
  {
   "cell_type": "code",
   "execution_count": 74,
   "id": "severe-hunter",
   "metadata": {},
   "outputs": [
    {
     "name": "stdout",
     "output_type": "stream",
     "text": [
      "CPU times: user 2.08 s, sys: 286 ms, total: 2.36 s\n",
      "Wall time: 44.5 s\n"
     ]
    }
   ],
   "source": [
    "%%time\n",
    "\n",
    "search = RandomizedSearchCV(\n",
    "    sgd,\n",
    "    {\n",
    "        \"countvectorizer__min_df\": randint(1, 20),\n",
    "        \"countvectorizer__max_df\": uniform(0.5, 0.5),\n",
    "        \"tfidftransformer__use_idf\": [True, False],\n",
    "        \"sgdclassifier__alpha\": loguniform(1e-6, 1e-2),\n",
    "        \n",
    "    },\n",
    "    n_iter=50,\n",
    "    scoring=\"f1_macro\",\n",
    ")\n",
    "search.fit(train[\"tokens\"], train[\"혐오 여부\"])\n",
    "log_search(search)"
   ]
  },
  {
   "cell_type": "code",
   "execution_count": 75,
   "id": "least-language",
   "metadata": {},
   "outputs": [
    {
     "name": "stdout",
     "output_type": "stream",
     "text": [
      "CPU times: user 2.24 s, sys: 277 ms, total: 2.51 s\n",
      "Wall time: 44.9 s\n"
     ]
    }
   ],
   "source": [
    "%%time\n",
    "\n",
    "search = RandomizedSearchCV(\n",
    "    sgd,\n",
    "    {\n",
    "        \"countvectorizer__min_df\": randint(1, 20),\n",
    "        \"countvectorizer__max_df\": uniform(0.5, 0.5),\n",
    "        \"tfidftransformer__use_idf\": [True, False],\n",
    "        \"sgdclassifier__alpha\": [2.39135e-05],\n",
    "        \n",
    "    },\n",
    "    n_iter=50,\n",
    "    scoring=\"f1_macro\",\n",
    ")\n",
    "search.fit(train[\"tokens\"], train[\"혐오 여부\"])\n",
    "log_search(search)"
   ]
  },
  {
   "cell_type": "code",
   "execution_count": 76,
   "id": "spatial-header",
   "metadata": {},
   "outputs": [
    {
     "name": "stdout",
     "output_type": "stream",
     "text": [
      "                              precision    recall  f1-score   support\n",
      "\n",
      "dehumanizing political views       0.61      0.61      0.61      1199\n",
      "          gender hate speech       0.77      0.66      0.71      1165\n",
      "             racist comments       0.83      0.82      0.83      1142\n",
      "      regions descrimination       0.67      0.77      0.71      1213\n",
      "\n",
      "                    accuracy                           0.71      4719\n",
      "                   macro avg       0.72      0.72      0.72      4719\n",
      "                weighted avg       0.72      0.71      0.71      4719\n",
      "\n"
     ]
    }
   ],
   "source": [
    "#utilized values found for alpha, min, and max for our optimized model\n",
    "sgd = make_pipeline(\n",
    "    CountVectorizer(analyzer=identity, min_df=10, max_df=.9627),TfidfTransformer(use_idf=True), SGDClassifier(alpha=2.39135e-05)\n",
    ")\n",
    "sgd.fit(train[\"tokens\"], train[\"혐오 여부\"])\n",
    "predicted = sgd.predict(test[\"tokens\"])\n",
    "print(classification_report(test[\"혐오 여부\"], predicted))"
   ]
  },
  {
   "cell_type": "code",
   "execution_count": 77,
   "id": "improving-korea",
   "metadata": {},
   "outputs": [],
   "source": [
    "#this defines our labels and scores from our sgdclassifier\n",
    "labels = sgd.named_steps['sgdclassifier'].classes_\n",
    "scores = sgd.decision_function(test[\"tokens\"])"
   ]
  },
  {
   "cell_type": "code",
   "execution_count": 78,
   "id": "entertaining-yesterday",
   "metadata": {},
   "outputs": [
    {
     "data": {
      "text/plain": [
       "(array(['dehumanizing political views', 'gender hate speech',\n",
       "        'racist comments', 'regions descrimination'], dtype='<U28'),\n",
       " array([[ 1.76845286,  0.23775452,  0.8338794 , ...,  1.7564966 ,\n",
       "          0.15936594,  0.23362388],\n",
       "        [ 0.35377667, -0.07262151,  0.05825473, ...,  0.32575288,\n",
       "         -0.11724887, -0.01939249],\n",
       "        [ 0.2068329 ,  0.0642066 , -0.29285296, ...,  0.04588918,\n",
       "          0.42147822,  0.45204413],\n",
       "        [-1.60401114, -0.96080773, -0.82855893, ..., -1.60869114,\n",
       "          0.58650064, -0.47278601]]))"
      ]
     },
     "execution_count": 78,
     "metadata": {},
     "output_type": "execute_result"
    }
   ],
   "source": [
    "#matrix of coefficients where there is a row for each class and a column for each feature, there is a weight for each word class pair\n",
    "coef = sgd.named_steps['sgdclassifier'].coef_\n",
    "labels, coef"
   ]
  },
  {
   "cell_type": "code",
   "execution_count": 79,
   "id": "sought-pulse",
   "metadata": {},
   "outputs": [],
   "source": [
    "vocab = sgd.named_steps['countvectorizer'].get_feature_names()"
   ]
  },
  {
   "cell_type": "code",
   "execution_count": 80,
   "id": "printable-milan",
   "metadata": {},
   "outputs": [
    {
     "name": "stdout",
     "output_type": "stream",
     "text": [
      "dehumanizing political views\n",
      "  좌                5.801\n",
      "  선                3.366\n",
      "  정                3.334\n",
      "  옥                3.289\n",
      "  뉴                3.151\n",
      "  팩                3.139\n",
      "  밍                3.092\n",
      "  묻                2.871\n",
      "  숨                2.843\n",
      "  제                2.772\n",
      "  전               -3.091\n",
      "  짱               -3.475\n",
      "  _               -3.494\n",
      "  미               -3.625\n",
      "  첩               -4.055\n",
      "  중               -4.793\n",
      "  혼               -5.306\n",
      "  국               -5.912\n",
      "  남               -7.169\n",
      "  여               -7.193\n",
      "\n",
      "gender hate speech\n",
      "  여                9.777\n",
      "  남                7.660\n",
      "  섹                6.703\n",
      "  혼                6.351\n",
      "  자                6.095\n",
      "  슴                5.608\n",
      "  엄                5.299\n",
      "  보                4.815\n",
      "  결                4.767\n",
      "  둑                4.125\n",
      "  좌               -2.180\n",
      "  죽               -2.270\n",
      "  및               -2.330\n",
      "  족               -2.336\n",
      "  전               -2.602\n",
      "  본               -2.738\n",
      "  중               -3.741\n",
      "  첩               -4.130\n",
      "  짱               -4.761\n",
      "  국               -6.157\n",
      "\n",
      "racist comments\n",
      "  북               14.698\n",
      "  국               11.278\n",
      "  첩                9.986\n",
      "  짱                8.485\n",
      "  중                7.560\n",
      "  미                5.654\n",
      "  본                4.837\n",
      "  몽                4.580\n",
      "  핑                3.813\n",
      "  깨                3.745\n",
      "  페               -2.116\n",
      "  셈               -2.304\n",
      "  회               -2.387\n",
      "  섹               -2.400\n",
      "  자               -3.220\n",
      "  애               -3.404\n",
      "  친               -3.435\n",
      "  민               -3.451\n",
      "  여               -3.776\n",
      "  좌               -3.934\n",
      "\n",
      "regions descrimination\n",
      "  전                5.972\n",
      "  라                2.715\n",
      "  잉                2.302\n",
      "  깝                2.143\n",
      "  꿔                2.126\n",
      "  꾼                2.096\n",
      "  옹                2.032\n",
      "  도                1.902\n",
      "  웬                1.891\n",
      "  향                1.859\n",
      "  콩               -4.003\n",
      "  짱               -4.019\n",
      "  중               -4.019\n",
      "  핑               -4.114\n",
      "  혼               -4.133\n",
      "  둑               -4.223\n",
      "  첩               -4.597\n",
      "  자               -4.935\n",
      "  여               -4.947\n",
      "  북               -5.553\n",
      "\n"
     ]
    }
   ],
   "source": [
    "ranked = np.argsort(coef, axis=1)\n",
    "for i, label in enumerate(labels):\n",
    "    print(label)\n",
    "    for j in concat([range(-1, -11, -1), range(10, 0, -1)]):\n",
    "        print(f'  {vocab[ranked[i,j]]:15s} {coef[i, ranked[i,j]]:6.3f}')\n",
    "    print()"
   ]
  },
  {
   "cell_type": "code",
   "execution_count": 81,
   "id": "proof-printer",
   "metadata": {},
   "outputs": [],
   "source": [
    "#looks at our highest score value\n",
    "highest = scores.max(axis=1)"
   ]
  },
  {
   "cell_type": "code",
   "execution_count": 82,
   "id": "manufactured-swift",
   "metadata": {},
   "outputs": [
    {
     "data": {
      "text/plain": [
       "-0.8219894292231265"
      ]
     },
     "execution_count": 82,
     "metadata": {},
     "output_type": "execute_result"
    }
   ],
   "source": [
    "highest[0]"
   ]
  },
  {
   "cell_type": "code",
   "execution_count": 83,
   "id": "sacred-table",
   "metadata": {},
   "outputs": [
    {
     "data": {
      "text/plain": [
       "4341"
      ]
     },
     "execution_count": 83,
     "metadata": {},
     "output_type": "execute_result"
    }
   ],
   "source": [
    "highest.argmax()"
   ]
  },
  {
   "cell_type": "code",
   "execution_count": 84,
   "id": "center-jaguar",
   "metadata": {},
   "outputs": [
    {
     "data": {
      "text/plain": [
       "array([-8.06780237,  9.52250691, -7.23225969, -5.0850381 ])"
      ]
     },
     "execution_count": 84,
     "metadata": {},
     "output_type": "execute_result"
    }
   ],
   "source": [
    "scores[4341]"
   ]
  },
  {
   "cell_type": "code",
   "execution_count": 85,
   "id": "referenced-novelty",
   "metadata": {},
   "outputs": [
    {
     "data": {
      "text/plain": [
       "'gender hate speech'"
      ]
     },
     "execution_count": 85,
     "metadata": {},
     "output_type": "execute_result"
    }
   ],
   "source": [
    "test['혐오 여부'].iloc[4341]"
   ]
  },
  {
   "cell_type": "code",
   "execution_count": 87,
   "id": "virgin-danish",
   "metadata": {},
   "outputs": [
    {
     "data": {
      "text/plain": [
       "'여자'"
      ]
     },
     "execution_count": 87,
     "metadata": {},
     "output_type": "execute_result"
    }
   ],
   "source": [
    "test['문장'].iloc[4341]"
   ]
  },
  {
   "cell_type": "code",
   "execution_count": 88,
   "id": "protecting-wings",
   "metadata": {},
   "outputs": [
    {
     "data": {
      "text/plain": [
       "3894"
      ]
     },
     "execution_count": 88,
     "metadata": {},
     "output_type": "execute_result"
    }
   ],
   "source": [
    "highest.argmin()"
   ]
  },
  {
   "cell_type": "code",
   "execution_count": 89,
   "id": "random-clock",
   "metadata": {},
   "outputs": [
    {
     "data": {
      "text/plain": [
       "array([[-1.74037659, -1.63190733, -1.09222409, -0.82198943],\n",
       "       [-5.58390191, -3.72401506, -1.80635744,  4.04493881],\n",
       "       [-3.07119387, -2.51164379, -0.25767331,  0.76103089],\n",
       "       [-2.255233  , -1.74494988, -1.30438367,  0.38216697],\n",
       "       [-2.60828566, -1.79300642, -0.07257639,  0.50851278]])"
      ]
     },
     "execution_count": 89,
     "metadata": {},
     "output_type": "execute_result"
    }
   ],
   "source": [
    "#sorts our scores\n",
    "scores.sort(axis=1)\n",
    "scores[0:5,:]"
   ]
  },
  {
   "cell_type": "code",
   "execution_count": 90,
   "id": "medieval-prison",
   "metadata": {},
   "outputs": [],
   "source": [
    "margin = scores[:,3]-scores[:,2]"
   ]
  },
  {
   "cell_type": "code",
   "execution_count": 91,
   "id": "broadband-sherman",
   "metadata": {},
   "outputs": [],
   "source": [
    "import matplotlib.pyplot as plt"
   ]
  },
  {
   "cell_type": "code",
   "execution_count": 92,
   "id": "popular-albany",
   "metadata": {},
   "outputs": [
    {
     "data": {
      "text/plain": [
       "Text(0, 0.5, 'F1')"
      ]
     },
     "execution_count": 92,
     "metadata": {},
     "output_type": "execute_result"
    },
    {
     "data": {
      "image/png": "[encoded data removed]",
      "text/plain": [
       "<Figure size 432x288 with 1 Axes>"
      ]
     },
     "metadata": {
      "needs_background": "light"
     },
     "output_type": "display_data"
    }
   ],
   "source": [
    "#plots graph\n",
    "thresh = np.linspace(-2, 3, 50)\n",
    "x = [100*(1-sum(margin > t)/len(margin)) for t in thresh]\n",
    "y = [f1_score(test[\"혐오 여부\"][margin > t], predicted[margin > t], average=\"macro\") for t in thresh]\n",
    "plt.plot(x, y)\n",
    "plt.xlabel('% Unknowns')\n",
    "plt.ylabel('F1')"
   ]
  },
  {
   "cell_type": "code",
   "execution_count": 93,
   "id": "regulation-mississippi",
   "metadata": {},
   "outputs": [],
   "source": [
    "#imports to create a confusiong matrix\n",
    "from sklearn.metrics import classification_report, f1_score, plot_confusion_matrix"
   ]
  },
  {
   "cell_type": "code",
   "execution_count": 94,
   "id": "marked-drinking",
   "metadata": {},
   "outputs": [
    {
     "data": {
      "text/plain": [
       "Pipeline(steps=[('countvectorizer',\n",
       "                 CountVectorizer(analyzer=<cyfunction identity at 0x7f72038da2b0>,\n",
       "                                 max_df=0.9627, min_df=10)),\n",
       "                ('tfidftransformer', TfidfTransformer()),\n",
       "                ('sgdclassifier', SGDClassifier(alpha=2.39135e-05))])"
      ]
     },
     "execution_count": 94,
     "metadata": {},
     "output_type": "execute_result"
    }
   ],
   "source": [
    "sgd"
   ]
  },
  {
   "cell_type": "code",
   "execution_count": 95,
   "id": "stock-illinois",
   "metadata": {},
   "outputs": [
    {
     "data": {
      "text/plain": [
       "<sklearn.metrics._plot.confusion_matrix.ConfusionMatrixDisplay at 0x7f716c24aa60>"
      ]
     },
     "execution_count": 95,
     "metadata": {},
     "output_type": "execute_result"
    },
    {
     "data": {
      "image/png": "[encoded data removed]",
      "text/plain": [
       "<Figure size 432x288 with 2 Axes>"
      ]
     },
     "metadata": {
      "needs_background": "light"
     },
     "output_type": "display_data"
    }
   ],
   "source": [
    "#the plotting of our sgd confusion matrix\n",
    "plot_confusion_matrix(sgd, test[\"문장\"], test[\"혐오 여부\"])"
   ]
  },
  {
   "cell_type": "code",
   "execution_count": 96,
   "id": "dedicated-printer",
   "metadata": {},
   "outputs": [
    {
     "data": {
      "text/plain": [
       "<sklearn.metrics._plot.confusion_matrix.ConfusionMatrixDisplay at 0x7f715ff8d670>"
      ]
     },
     "execution_count": 96,
     "metadata": {},
     "output_type": "execute_result"
    },
    {
     "data": {
      "image/png": "[encoded data removed]",
      "text/plain": [
       "<Figure size 1080x1080 with 2 Axes>"
      ]
     },
     "metadata": {
      "needs_background": "light"
     },
     "output_type": "display_data"
    }
   ],
   "source": [
    "#readjusting the size of our confusion matrix to have the x- axis be more visible. Noticed that Pinot Noir and Cabernet Sauvignon have high values it could be considered that there are similarities between the two\n",
    "fig, ax = plt.subplots(figsize=(15,15))\n",
    "plot_confusion_matrix(sgd, test['문장'], test['혐오 여부'], ax=ax)"
   ]
  },
  {
   "cell_type": "code",
   "execution_count": 116,
   "id": "textile-cemetery",
   "metadata": {},
   "outputs": [],
   "source": [
    "#creating copies of the original df\n",
    "train_copy = train.copy()"
   ]
  },
  {
   "cell_type": "code",
   "execution_count": 117,
   "id": "institutional-income",
   "metadata": {},
   "outputs": [],
   "source": [
    "test_copy = test.copy()"
   ]
  },
  {
   "cell_type": "code",
   "execution_count": 118,
   "id": "smooth-employee",
   "metadata": {},
   "outputs": [],
   "source": [
    "#defining 'm' for the wine variants i want to combine\n",
    "m = train_copy['혐오 여부'].isin(['regions descrimination','dehumanizing political views'])"
   ]
  },
  {
   "cell_type": "code",
   "execution_count": 119,
   "id": "iraqi-hierarchy",
   "metadata": {},
   "outputs": [],
   "source": [
    "#combining the wine variants of cabernet sauvignon and pinot noir to be combined\n",
    "train_copy['혐오 여부'] = train_copy['혐오 여부'].mask(m, 'RD / GHP')"
   ]
  },
  {
   "cell_type": "code",
   "execution_count": 120,
   "id": "sorted-livestock",
   "metadata": {},
   "outputs": [
    {
     "data": {
      "text/plain": [
       "RD / GHP              9587\n",
       "racist comments       4658\n",
       "gender hate speech    4630\n",
       "Name: 혐오 여부, dtype: int64"
      ]
     },
     "execution_count": 120,
     "metadata": {},
     "output_type": "execute_result"
    }
   ],
   "source": [
    "train_copy[\"혐오 여부\"].value_counts()"
   ]
  },
  {
   "cell_type": "code",
   "execution_count": 121,
   "id": "false-deficit",
   "metadata": {},
   "outputs": [],
   "source": [
    "d = test_copy['혐오 여부'].isin(['regions descrimination','dehumanizing political views'])"
   ]
  },
  {
   "cell_type": "code",
   "execution_count": 122,
   "id": "inappropriate-rochester",
   "metadata": {},
   "outputs": [],
   "source": [
    "test_copy['혐오 여부'] = test_copy['혐오 여부'].mask(m, 'RD / GHP')"
   ]
  },
  {
   "cell_type": "code",
   "execution_count": 123,
   "id": "direct-shelf",
   "metadata": {},
   "outputs": [
    {
     "name": "stdout",
     "output_type": "stream",
     "text": [
      "                              precision    recall  f1-score   support\n",
      "\n",
      "                    RD / GHP       0.51      0.58      0.54      2450\n",
      "dehumanizing political views       0.00      0.00      0.00       602\n",
      "          gender hate speech       0.36      0.57      0.44       566\n",
      "             racist comments       0.41      0.78      0.54       537\n",
      "      regions descrimination       0.00      0.00      0.00       564\n",
      "\n",
      "                    accuracy                           0.46      4719\n",
      "                   macro avg       0.26      0.39      0.30      4719\n",
      "                weighted avg       0.35      0.46      0.40      4719\n",
      "\n"
     ]
    },
    {
     "name": "stderr",
     "output_type": "stream",
     "text": [
      "/opt/conda/lib/python3.8/site-packages/sklearn/metrics/_classification.py:1245: UndefinedMetricWarning: Precision and F-score are ill-defined and being set to 0.0 in labels with no predicted samples. Use `zero_division` parameter to control this behavior.\n",
      "  _warn_prf(average, modifier, msg_start, len(result))\n",
      "/opt/conda/lib/python3.8/site-packages/sklearn/metrics/_classification.py:1245: UndefinedMetricWarning: Precision and F-score are ill-defined and being set to 0.0 in labels with no predicted samples. Use `zero_division` parameter to control this behavior.\n",
      "  _warn_prf(average, modifier, msg_start, len(result))\n",
      "/opt/conda/lib/python3.8/site-packages/sklearn/metrics/_classification.py:1245: UndefinedMetricWarning: Precision and F-score are ill-defined and being set to 0.0 in labels with no predicted samples. Use `zero_division` parameter to control this behavior.\n",
      "  _warn_prf(average, modifier, msg_start, len(result))\n"
     ]
    }
   ],
   "source": [
    "#establishing our baseline to determine a threshold to try to beat for our sgdclassifier\n",
    "baseline = make_pipeline(CountVectorizer(analyzer=identity), SGDClassifier())\n",
    "baseline.fit(train_copy[\"문장\"], train_copy[\"혐오 여부\"])\n",
    "base_predicted = baseline.predict(test_copy[\"문장\"])\n",
    "print(classification_report(test_copy[\"혐오 여부\"], base_predicted))"
   ]
  },
  {
   "cell_type": "code",
   "execution_count": null,
   "id": "living-muscle",
   "metadata": {},
   "outputs": [],
   "source": []
  }
 ],
 "metadata": {
  "kernelspec": {
   "display_name": "Python 3",
   "language": "python",
   "name": "python3"
  },
  "language_info": {
   "codemirror_mode": {
    "name": "ipython",
    "version": 3
   },
   "file_extension": ".py",
   "mimetype": "text/x-python",
   "name": "python",
   "nbconvert_exporter": "python",
   "pygments_lexer": "ipython3",
   "version": "3.8.6"
  }
 },
 "nbformat": 4,
 "nbformat_minor": 5
}
